{
 "cells": [
  {
   "cell_type": "markdown",
   "metadata": {},
   "source": [
    "<h1 align=center>Julia</h1>"
   ]
  },
  {
   "cell_type": "markdown",
   "metadata": {},
   "source": [
    "Scientific computing is an area which requires the highest performance, so far, slower dynamic languages are being used by domain experts for daily development work. Many believe that there is a need of dynamic language for building applications. The Julia programming language can take the place of a flexible dynamic language, which is perfect for numerical and scientific computing. "
   ]
  },
  {
   "cell_type": "markdown",
   "metadata": {},
   "source": [
    "#### Julia Tutorial\n",
    "\n",
    "\n",
    "**Table of Contents**\n",
    "\n",
    "1. What is Julia language?\n",
    "2. Who uses Julia?\n",
    "3. Installing Julia on Windows\n",
    "4. Features of julia\n",
    "5. Julia Packages\n",
    "6. Julia parallelism\n",
    "7. Julia type system\n",
    "8. Comparing Julia and Python\n",
    "9. Julia Ecosystem"
   ]
  },
  {
   "cell_type": "markdown",
   "metadata": {},
   "source": [
    "### What is Julia language?\n",
    "\n",
    "Julia is a high-level programming language which was developed by 4 people at Massachusetts Institute of Technology (MIT). It is open source, high-performance, a high-level, dynamic programming language which is used in scientific computing. It is predominantly used for data analysis and statistics computations which is similar to R programming language.\n",
    "\n",
    "Julia is built primarily for its speed and applications using it have experienced faster running times when compared with Python or R. It provides support in performing difficult tasks such as cloud computing and parallelism which are considered as fundamental to perform big data analytics.\n",
    "\n",
    "### Who uses Julia?\n",
    "Julia is mainly used by research scientists and engineers, In addition to them, it is also utilized by financial analysts, quants and data scientists. The developers of Julia language made sure that the products developed make julia an easily usable, deployable and scalable.\n",
    "\n",
    "### Installing Julia on Windows\n",
    "Julia can be installed on various platforms such as Windows, MacOs and Linux as well. \n",
    "\n",
    "Here is a download link to install julia: https://julialang.org/downloads/index.html.\n",
    "\n",
    "### Features of  julia\n",
    "The following features make julia a popular programming language:\n",
    "\n",
    "1. Julia uses dynamic typing, resembles scripting, and has good support for interactive use.\n",
    "2. Julia supports high-level syntax which makes it  an efficient language for programmers.\n",
    "3. Julia offers rich language of descriptive data types.\n",
    "4. Julia supports multiple dispatch which makes it easy to compile object-oriented and functional programming code patterns.\n",
    "5. As julia is open source, all source code is publicly viewable on GitHub.\n",
    "\n",
    "### Julia Packages\n",
    "These are some of the favourite packages used by julia developers:\n",
    "\n",
    "1. **Interact.jl:** Interactive widgets such as dropdowns, sliders and checkboxes to easily implement julia code.\n",
    "2. **Generic Linear Algebra :** used to extend linear algebra functionality.\n",
    "3. **Colors.jl:** this is a color manipulation utility for Julia.\n",
    "4. **UnicodePlots.jl:** scientific plotting based on unicode to work in the terminal.\n",
    "5. **Nemo:** computer algebra package.\n",
    "6. **Revise:** update function definitions automatically in a running Julia session\n",
    "7. **BenchmarkTools:** a benchmarking framework.\n",
    "8. **OhMyREPL.jl:** bracket highlighting, syntax highlighting and rainbow brackets.\n",
    "9. **StaticArrays:** framework which provides statically sized arrays.\n",
    "\n",
    "### Julia parallelism\n",
    "\n",
    "Julia is specifically designed for the purpose of distributed computation and parallelism, using two primitives such as remote calls and remote references. Remote references is of two types: future and remote channel.\n",
    "\n",
    "A future is similar to javascript promise whereas a remote channel can be rewritable and used for interprocess communication, such as Go channel or Unix pipe.\n",
    "\n",
    "### Julia type system\n",
    "\n",
    "Julia consists of robust type system that is dynamic in nature, it is a traditional runtime type inference but allows for optional type annotations."
   ]
  },
  {
   "cell_type": "code",
   "execution_count": 3,
   "metadata": {},
   "outputs": [
    {
     "ename": "TypeError",
     "evalue": "TypeError: in typeassert, expected AbstractFloat, got Int64",
     "output_type": "error",
     "traceback": [
      "TypeError: in typeassert, expected AbstractFloat, got Int64",
      "",
      "Stacktrace:",
      " [1] top-level scope at In[3]:1"
     ]
    }
   ],
   "source": [
    "(1+2)::AbstractFloat"
   ]
  },
  {
   "cell_type": "code",
   "execution_count": 5,
   "metadata": {},
   "outputs": [
    {
     "data": {
      "text/plain": [
       "3"
      ]
     },
     "execution_count": 5,
     "metadata": {},
     "output_type": "execute_result"
    }
   ],
   "source": [
    "(1+2)::Int"
   ]
  },
  {
   "cell_type": "markdown",
   "metadata": {},
   "source": [
    "The above program show an assertion of incompatible type, causing an error and a compatible type in the second step.\n",
    "\n",
    "### Comparing Julia and Python\n",
    "\n",
    "Python is most popular language used widely by most of the developers. Whereas julia is launched very recently in 2012 which is much younger than python. But many developers are likely to use julia as it is catching on quickly, considering the rankings by redmonk.\n",
    "\n",
    "**Advantages of Julia**\n",
    "\n",
    "    From the beginning julia was designed for numerical and scientific computation. It's not surprising that Julia has numerous features for such instances of use: \n",
    "\n",
    "**Faster by default.** \n",
    "        JIT compilation and JIT type declarations imply it can frequently beat “pure”, Python. With the means of external libraries, optimizations with tools such as Cython, third party JIT compilers python can be made faster, but Julia was designed to be faster right out from the gate. \n",
    "\n",
    "**A mathematical friendly syntax.** \n",
    "        The users of computing languages and environments such as Matlab, R, Mathematica, and Octave are the targeted audience for julia. Julia's syntax for mathematics operations looks similar to the way mathematics formulas are written outside the computing world, which makes it look easier for non programmers to pick up on. \n",
    "\n",
    "**Automated memory management.** \n",
    "        Like Python, Julia doesn't load the user with the specifics of allocating and freeing memory, and it provides some measure of control over garbage collection. The idea is that if you change to Julia, you do not loses one of Python's common conveniences. \n",
    "        \n",
    "\n",
    "**Advantages of Python**\n",
    "\n",
    "Python is a general purpose computing language that's simple to learn, and which has become a leading language for scientific computing. Some of reasons might still make python a best choice for data science work: \n",
    "\n",
    "**Still in infant stage.** Julia is still in development stage with its current version running on v1.1.0. It is going to get more features added in the future as the developers are continuously trying to improve its performance.\n",
    "\n",
    "**More third-party packages.** The broad usage of python’s culture of custom packages remains a biggest interests of the language. Julia’s relative newness  resembles the culture of software surrounding is still small.\n",
    "\n",
    "**Python’s advantage of large community.** A language is nowhere without the support of active and large community around it. The community of julia is enthusiastic and gradually growing, but is still a small size of the python community.\n",
    "\n",
    "### Julia Ecosystem\n",
    "\n",
    "**Data visualization and Plotting**\n",
    "\n",
    "Data visualization is one of the important aspect of julia. The plotting software helps to maintain a balance between simplicity and features, speed, and a static and dynamic interface. Some packages maintain a constant display whereas others make real-time updates.\n",
    "\n",
    "The useful packages for data visualization and plotting are:\n",
    "\n",
    "1. **Plots.jl** is a visualization interface providing common api across different backends.\n",
    "2. **PlotlyJS.jlis** for users who like graphics style API \n",
    "3. **UnicodePlots.jl** is for users who don’t require terminal comfort.\n",
    "\n",
    "### Build, Deploy or Embed Your Code\n",
    "\n",
    "Julia offers functionality to write UIs, compile code statically and even deploy on a web server. It provides metaprogramming facilities and Lisp-like macros. It also has robust capabilities for managing other processes."
   ]
  },
  {
   "cell_type": "code",
   "execution_count": 17,
   "metadata": {
    "collapsed": true,
    "jupyter": {
     "outputs_hidden": true
    }
   },
   "outputs": [
    {
     "name": "stdout",
     "output_type": "stream",
     "text": [
      "\u001b[32m\u001b[1m Resolving\u001b[22m\u001b[39m package versions...\n",
      "\u001b[32m\u001b[1m  Updating\u001b[22m\u001b[39m `C:\\Users\\reddy\\.julia\\environments\\v1.2\\Project.toml`\n",
      " \u001b[90m [91a5bcdd]\u001b[39m\u001b[93m ~ Plots v0.27.0 #master (https://github.com/JuliaPlots/Plots.jl.git) ⇒ v0.27.0\u001b[39m\n",
      "\u001b[32m\u001b[1m  Updating\u001b[22m\u001b[39m `C:\\Users\\reddy\\.julia\\environments\\v1.2\\Manifest.toml`\n",
      " \u001b[90m [91a5bcdd]\u001b[39m\u001b[93m ~ Plots v0.27.0 #master (https://github.com/JuliaPlots/Plots.jl.git) ⇒ v0.27.0\u001b[39m\n",
      "\u001b[32m\u001b[1m  Updating\u001b[22m\u001b[39m git-repo `https://github.com/JuliaPlots/Plots.jl.git`\n",
      "\u001b[?25l\u001b[2K\u001b[?25h\u001b[32m\u001b[1m Resolving\u001b[22m\u001b[39m package versions...\n",
      "\u001b[32m\u001b[1m  Updating\u001b[22m\u001b[39m `C:\\Users\\reddy\\.julia\\environments\\v1.2\\Project.toml`\n",
      " \u001b[90m [91a5bcdd]\u001b[39m\u001b[93m ~ Plots v0.27.0 ⇒ v0.27.0 #master (https://github.com/JuliaPlots/Plots.jl.git)\u001b[39m\n",
      "\u001b[32m\u001b[1m  Updating\u001b[22m\u001b[39m `C:\\Users\\reddy\\.julia\\environments\\v1.2\\Manifest.toml`\n",
      " \u001b[90m [91a5bcdd]\u001b[39m\u001b[93m ~ Plots v0.27.0 ⇒ v0.27.0 #master (https://github.com/JuliaPlots/Plots.jl.git)\u001b[39m\n"
     ]
    }
   ],
   "source": [
    "import Pkg\n",
    "Pkg.add(\"Plots\")\n",
    "\n",
    "# if you want the latest features:\n",
    "Pkg.pkg\"add Plots#master\""
   ]
  },
  {
   "cell_type": "code",
   "execution_count": 19,
   "metadata": {},
   "outputs": [
    {
     "name": "stdout",
     "output_type": "stream",
     "text": [
      "\u001b[32m\u001b[1m Resolving\u001b[22m\u001b[39m package versions...\n",
      "\u001b[32m\u001b[1m  Updating\u001b[22m\u001b[39m `C:\\Users\\reddy\\.julia\\environments\\v1.2\\Project.toml`\n",
      "\u001b[90m [no changes]\u001b[39m\n",
      "\u001b[32m\u001b[1m  Updating\u001b[22m\u001b[39m `C:\\Users\\reddy\\.julia\\environments\\v1.2\\Manifest.toml`\n",
      "\u001b[90m [no changes]\u001b[39m\n"
     ]
    },
    {
     "data": {
      "text/plain": [
       "Series\n",
       "  ├── Mean: n=1000000 | value=0.000558728\n",
       "  ├── Variance: n=1000000 | value=0.999488\n",
       "  ├── P2Quantile (0.5): n=1000000 | value=0.0021618120335261475\n",
       "  └── Extrema: n=1000000 | value=(-5.42998, 4.74605)"
      ]
     },
     "execution_count": 19,
     "metadata": {},
     "output_type": "execute_result"
    }
   ],
   "source": [
    "import Pkg\n",
    "\n",
    "Pkg.add(\"OnlineStats\")\n",
    "\n",
    "using OnlineStats\n",
    "\n",
    "o = Series(Mean(), Variance(), P2Quantile(), Extrema())\n",
    "\n",
    "fit!(o, randn(10^6))"
   ]
  },
  {
   "cell_type": "code",
   "execution_count": 21,
   "metadata": {},
   "outputs": [
    {
     "name": "stdout",
     "output_type": "stream",
     "text": [
      "\u001b[32m\u001b[1m Resolving\u001b[22m\u001b[39m package versions...\n",
      "\u001b[32m\u001b[1m  Updating\u001b[22m\u001b[39m `C:\\Users\\reddy\\.julia\\environments\\v1.2\\Project.toml`\n",
      "\u001b[90m [no changes]\u001b[39m\n",
      "\u001b[32m\u001b[1m  Updating\u001b[22m\u001b[39m `C:\\Users\\reddy\\.julia\\environments\\v1.2\\Manifest.toml`\n",
      "\u001b[90m [no changes]\u001b[39m\n"
     ]
    }
   ],
   "source": [
    "Pkg.add(\"GraphPlot\")"
   ]
  },
  {
   "cell_type": "code",
   "execution_count": 23,
   "metadata": {},
   "outputs": [
    {
     "ename": "ArgumentError",
     "evalue": "ArgumentError: Package plot not found in current path:\n- Run `import Pkg; Pkg.add(\"plot\")` to install the plot package.\n",
     "output_type": "error",
     "traceback": [
      "ArgumentError: Package plot not found in current path:\n- Run `import Pkg; Pkg.add(\"plot\")` to install the plot package.\n",
      "",
      "Stacktrace:",
      " [1] require(::Module, ::Symbol) at .\\loading.jl:876",
      " [2] top-level scope at In[23]:1"
     ]
    }
   ],
   "source": [
    "import plot\n",
    "s = fit!(Series(KHist(25), Hist(-5:.2:5)), randn(10^6))\n",
    "plot(s)"
   ]
  }
 ],
 "metadata": {
  "kernelspec": {
   "display_name": "Julia 1.2.0",
   "language": "julia",
   "name": "julia-1.2"
  },
  "language_info": {
   "file_extension": ".jl",
   "mimetype": "application/julia",
   "name": "julia",
   "version": "1.2.0"
  }
 },
 "nbformat": 4,
 "nbformat_minor": 4
}
